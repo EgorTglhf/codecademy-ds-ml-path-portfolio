{
 "cells": [
  {
   "cell_type": "markdown",
   "id": "0710ab3f-3019-401f-872b-24d074735997",
   "metadata": {},
   "source": [
    "# Biodiversity\n",
    "\n",
    "This is the third project on Codecademy Data Scientist: Machine Learning Career Path.\n",
    "\n",
    "Codecademy.com has provided `observations.csv` and `species_info.csv` - the data is fictional but is inspired by real data.\n",
    "\n",
    "The aim of this project is to study biodiversity data provided by the National Parks Service, with a specific focus on the species recorded in various national parks. This project will involve scoping, analyzing, preparing, and plotting data, with the goal of interpreting and explaining the results of the analysis."
   ]
  },
  {
   "cell_type": "markdown",
   "id": "c0c6ac9d-c7e7-49ae-a87e-366173ea575d",
   "metadata": {},
   "source": [
    "# Scoping"
   ]
  },
  {
   "cell_type": "markdown",
   "id": "3be96d18-e570-4e8a-a35c-057abe91ed13",
   "metadata": {},
   "source": [
    "Project Scoping is the helpfull beggining of the project. It helps to recognise and line up the structure while requiring you to think through your entire project before you begin. \n",
    "Considering [Data Science Project Scoping Guide](https://www.datasciencepublicpolicy.org/our-work/tools-guides/data-science-project-scoping-guide/) it will be good to start with setting high-level goals of the project, determeniton which actions coulde be done or improved and data we need and where we can gather them, and, finally, the description of following analysis and which techniques could be implemented.\n",
    "\n",
    "#### Goals\n",
    "\n",
    "Assuming the National Park Service aims to preserve at-risk species and maintain biodiversity within their parks, the primary objectives as an analyst will be to understand the characteristics of these species, their conservation status, and their relationship to the national parks. Some of the key questions to explore include:\n",
    "\n",
    "- What is the distribution of conservation status for species?\n",
    "- Are certain types of species more likely to be endangered?\n",
    "- Are the differences between species and their conservation status significant?\n",
    "- Which animal is most prevalent and what is their distribution amongst parks?\n",
    "\n",
    "#### Actions\n",
    "\n",
    "As a project for a fictional customer there is no need to scope actions.\n",
    "\n",
    "#### Data\n",
    "\n",
    "Codecademy has provided two `csv` files filled fictional data but inspired by real information. \n",
    "The first `species_info.csv` file has information about each species and another `observations.csv` has observations of species with park locations. This data will be used to analyze the goals of the project. \n",
    "\n",
    "#### Analysis\n",
    "\n",
    "This section will utilize descriptive statistics and data visualization techniques to gain a deeper understanding of the data. Statistical inference will also be applied to determine whether the observed values are statistically significant. Key metrics to be calculated include: \n",
    "\n",
    "1. Distributions\n",
    "1. Counts\n",
    "1. Relationship between species\n",
    "1. Conservation status of species\n",
    "1. Observations of species in parks. "
   ]
  },
  {
   "cell_type": "markdown",
   "id": "da9773be-4e6d-484b-8cbe-b4292144b3b0",
   "metadata": {},
   "source": [
    "# Load data"
   ]
  },
  {
   "cell_type": "code",
   "execution_count": 38,
   "id": "89e2614b-1abf-4804-88ce-790ec5a08df8",
   "metadata": {},
   "outputs": [],
   "source": [
    "import pandas as pd\n",
    "import numpy as np\n",
    "\n",
    "from matplotlib import pyplot as plt\n",
    "import seaborn as sns\n",
    "\n",
    "%matplotlib inline"
   ]
  },
  {
   "cell_type": "markdown",
   "id": "af6c2179-13ff-4876-b032-760e9e0ada80",
   "metadata": {},
   "source": [
    "First we import neсessary python libraries. \n",
    "To work with csv data set we use Pandas. To evaluate and visualize our findings we may use Matplotlib and Seaborn."
   ]
  },
  {
   "cell_type": "markdown",
   "id": "59f5da95-a9cc-4645-8b1e-14eaa6e26726",
   "metadata": {},
   "source": [
    "## Species info"
   ]
  },
  {
   "cell_type": "code",
   "execution_count": 8,
   "id": "4cbf2f47-071b-49e7-8cf4-910bf5cf0554",
   "metadata": {},
   "outputs": [
    {
     "data": {
      "text/html": [
       "<div>\n",
       "<style scoped>\n",
       "    .dataframe tbody tr th:only-of-type {\n",
       "        vertical-align: middle;\n",
       "    }\n",
       "\n",
       "    .dataframe tbody tr th {\n",
       "        vertical-align: top;\n",
       "    }\n",
       "\n",
       "    .dataframe thead th {\n",
       "        text-align: right;\n",
       "    }\n",
       "</style>\n",
       "<table border=\"1\" class=\"dataframe\">\n",
       "  <thead>\n",
       "    <tr style=\"text-align: right;\">\n",
       "      <th></th>\n",
       "      <th>category</th>\n",
       "      <th>scientific_name</th>\n",
       "      <th>common_names</th>\n",
       "      <th>conservation_status</th>\n",
       "    </tr>\n",
       "  </thead>\n",
       "  <tbody>\n",
       "    <tr>\n",
       "      <th>0</th>\n",
       "      <td>Mammal</td>\n",
       "      <td>Clethrionomys gapperi gapperi</td>\n",
       "      <td>Gapper's Red-Backed Vole</td>\n",
       "      <td>NaN</td>\n",
       "    </tr>\n",
       "    <tr>\n",
       "      <th>1</th>\n",
       "      <td>Mammal</td>\n",
       "      <td>Bos bison</td>\n",
       "      <td>American Bison, Bison</td>\n",
       "      <td>NaN</td>\n",
       "    </tr>\n",
       "    <tr>\n",
       "      <th>2</th>\n",
       "      <td>Mammal</td>\n",
       "      <td>Bos taurus</td>\n",
       "      <td>Aurochs, Aurochs, Domestic Cattle (Feral), Dom...</td>\n",
       "      <td>NaN</td>\n",
       "    </tr>\n",
       "    <tr>\n",
       "      <th>3</th>\n",
       "      <td>Mammal</td>\n",
       "      <td>Ovis aries</td>\n",
       "      <td>Domestic Sheep, Mouflon, Red Sheep, Sheep (Feral)</td>\n",
       "      <td>NaN</td>\n",
       "    </tr>\n",
       "    <tr>\n",
       "      <th>4</th>\n",
       "      <td>Mammal</td>\n",
       "      <td>Cervus elaphus</td>\n",
       "      <td>Wapiti Or Elk</td>\n",
       "      <td>NaN</td>\n",
       "    </tr>\n",
       "  </tbody>\n",
       "</table>\n",
       "</div>"
      ],
      "text/plain": [
       "  category                scientific_name  \\\n",
       "0   Mammal  Clethrionomys gapperi gapperi   \n",
       "1   Mammal                      Bos bison   \n",
       "2   Mammal                     Bos taurus   \n",
       "3   Mammal                     Ovis aries   \n",
       "4   Mammal                 Cervus elaphus   \n",
       "\n",
       "                                        common_names conservation_status  \n",
       "0                           Gapper's Red-Backed Vole                 NaN  \n",
       "1                              American Bison, Bison                 NaN  \n",
       "2  Aurochs, Aurochs, Domestic Cattle (Feral), Dom...                 NaN  \n",
       "3  Domestic Sheep, Mouflon, Red Sheep, Sheep (Feral)                 NaN  \n",
       "4                                      Wapiti Or Elk                 NaN  "
      ]
     },
     "execution_count": 8,
     "metadata": {},
     "output_type": "execute_result"
    }
   ],
   "source": [
    "species = pd.read_csv('species_info.csv',encoding='utf-8')\n",
    "species.head()"
   ]
  },
  {
   "cell_type": "markdown",
   "id": "84a92492-593f-40e4-b093-60cf6d76f594",
   "metadata": {},
   "source": [
    "The `species_info.csv` keeps information about the different species in the National Parks. It has 4 columns:\n",
    "- category - The class for each species\n",
    "- scientific_name - The scientific name of each species\n",
    "- common_names - The common names of each species\n",
    "- conservation_status - The species conservation status"
   ]
  },
  {
   "cell_type": "code",
   "execution_count": 11,
   "id": "6c104046-b5d4-4123-9139-0bfe8c07d808",
   "metadata": {},
   "outputs": [
    {
     "data": {
      "text/plain": [
       "(5824, 4)"
      ]
     },
     "execution_count": 11,
     "metadata": {},
     "output_type": "execute_result"
    }
   ],
   "source": [
    "species.shape"
   ]
  },
  {
   "cell_type": "markdown",
   "id": "d9499458-e339-4ff6-a0af-23f4a746ec2c",
   "metadata": {},
   "source": [
    "`species`has 5,824 rows and 4 columns"
   ]
  },
  {
   "cell_type": "markdown",
   "id": "ca2ea664-f068-42d2-a624-6bbd042c9b22",
   "metadata": {},
   "source": [
    "## Observations"
   ]
  },
  {
   "cell_type": "code",
   "execution_count": 15,
   "id": "51680522-e958-44d6-b48a-386a1f592dec",
   "metadata": {},
   "outputs": [
    {
     "data": {
      "text/html": [
       "<div>\n",
       "<style scoped>\n",
       "    .dataframe tbody tr th:only-of-type {\n",
       "        vertical-align: middle;\n",
       "    }\n",
       "\n",
       "    .dataframe tbody tr th {\n",
       "        vertical-align: top;\n",
       "    }\n",
       "\n",
       "    .dataframe thead th {\n",
       "        text-align: right;\n",
       "    }\n",
       "</style>\n",
       "<table border=\"1\" class=\"dataframe\">\n",
       "  <thead>\n",
       "    <tr style=\"text-align: right;\">\n",
       "      <th></th>\n",
       "      <th>scientific_name</th>\n",
       "      <th>park_name</th>\n",
       "      <th>observations</th>\n",
       "    </tr>\n",
       "  </thead>\n",
       "  <tbody>\n",
       "    <tr>\n",
       "      <th>0</th>\n",
       "      <td>Vicia benghalensis</td>\n",
       "      <td>Great Smoky Mountains National Park</td>\n",
       "      <td>68</td>\n",
       "    </tr>\n",
       "    <tr>\n",
       "      <th>1</th>\n",
       "      <td>Neovison vison</td>\n",
       "      <td>Great Smoky Mountains National Park</td>\n",
       "      <td>77</td>\n",
       "    </tr>\n",
       "    <tr>\n",
       "      <th>2</th>\n",
       "      <td>Prunus subcordata</td>\n",
       "      <td>Yosemite National Park</td>\n",
       "      <td>138</td>\n",
       "    </tr>\n",
       "    <tr>\n",
       "      <th>3</th>\n",
       "      <td>Abutilon theophrasti</td>\n",
       "      <td>Bryce National Park</td>\n",
       "      <td>84</td>\n",
       "    </tr>\n",
       "    <tr>\n",
       "      <th>4</th>\n",
       "      <td>Githopsis specularioides</td>\n",
       "      <td>Great Smoky Mountains National Park</td>\n",
       "      <td>85</td>\n",
       "    </tr>\n",
       "  </tbody>\n",
       "</table>\n",
       "</div>"
      ],
      "text/plain": [
       "            scientific_name                            park_name  observations\n",
       "0        Vicia benghalensis  Great Smoky Mountains National Park            68\n",
       "1            Neovison vison  Great Smoky Mountains National Park            77\n",
       "2         Prunus subcordata               Yosemite National Park           138\n",
       "3      Abutilon theophrasti                  Bryce National Park            84\n",
       "4  Githopsis specularioides  Great Smoky Mountains National Park            85"
      ]
     },
     "execution_count": 15,
     "metadata": {},
     "output_type": "execute_result"
    }
   ],
   "source": [
    "observations = pd.read_csv('observations.csv', encoding='utf-8')\n",
    "observations.head()"
   ]
  },
  {
   "cell_type": "markdown",
   "id": "7fa68784-b25c-458a-a7e4-961363189834",
   "metadata": {},
   "source": [
    "The `observations.csv` keeps information about observations of different species in the national parks in the past 7 days. It has 3 columns:\n",
    "\n",
    "- scientific_name - The scientific name of each species\n",
    "- park_name - The name of the national park\n",
    "- observations - The number of observations in the past 7 daysdays"
   ]
  },
  {
   "cell_type": "code",
   "execution_count": 18,
   "id": "f7da1d1d-58cd-42bb-8a53-11157bbe33e3",
   "metadata": {},
   "outputs": [
    {
     "data": {
      "text/plain": [
       "(23296, 3)"
      ]
     },
     "execution_count": 18,
     "metadata": {},
     "output_type": "execute_result"
    }
   ],
   "source": [
    "observations.shape"
   ]
  },
  {
   "cell_type": "markdown",
   "id": "cd63ceaf-d2d5-48cf-acf6-c622eab75ce4",
   "metadata": {},
   "source": [
    "`observations` has 23,296 rows and 3 columns."
   ]
  },
  {
   "cell_type": "code",
   "execution_count": null,
   "id": "0e8f543d-3550-446e-aece-5a102928c8f4",
   "metadata": {},
   "outputs": [],
   "source": []
  }
 ],
 "metadata": {
  "kernelspec": {
   "display_name": "Python 3 (ipykernel)",
   "language": "python",
   "name": "python3"
  },
  "language_info": {
   "codemirror_mode": {
    "name": "ipython",
    "version": 3
   },
   "file_extension": ".py",
   "mimetype": "text/x-python",
   "name": "python",
   "nbconvert_exporter": "python",
   "pygments_lexer": "ipython3",
   "version": "3.11.7"
  }
 },
 "nbformat": 4,
 "nbformat_minor": 5
}
