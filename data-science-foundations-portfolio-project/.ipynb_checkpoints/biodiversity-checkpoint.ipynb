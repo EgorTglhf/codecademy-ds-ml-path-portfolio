{
 "cells": [
  {
   "cell_type": "markdown",
   "id": "0710ab3f-3019-401f-872b-24d074735997",
   "metadata": {},
   "source": [
    "# Biodiversity\n",
    "\n",
    "This is the third project on Codecademy Data Scientist: Machine Learning Career Path.\n",
    "\n",
    "Codecademy.com has provided `observations.csv` and `species_info.csv` - the data is fictional but is inspired by real data.\n",
    "\n",
    "The aim of this project is to study biodiversity data provided by the National Parks Service, with a specific focus on the species recorded in various national parks. This project will involve scoping, analyzing, preparing, and plotting data, with the goal of interpreting and explaining the results of the analysis."
   ]
  },
  {
   "cell_type": "markdown",
   "id": "c0c6ac9d-c7e7-49ae-a87e-366173ea575d",
   "metadata": {},
   "source": [
    "# Scoping"
   ]
  },
  {
   "cell_type": "markdown",
   "id": "3be96d18-e570-4e8a-a35c-057abe91ed13",
   "metadata": {},
   "source": [
    "Project Scoping is the helpfull beggining of the project. It helps to recognise and line up the structure while requiring you to think through your entire project before you begin. \n",
    "Considering [Data Science Project Scoping Guide](https://www.datasciencepublicpolicy.org/our-work/tools-guides/data-science-project-scoping-guide/) it will be good to start with setting high-level goals of the project, determeniton which actions coulde be done or improved and data we need and where we can gather them, and, finally, the description of following analysis and which techniques could be implemented.\n",
    "\n",
    "#### Goals\n",
    "\n",
    "Assuming the National Park Service aims to preserve at-risk species and maintain biodiversity within their parks, the primary objectives as an analyst will be to understand the characteristics of these species, their conservation status, and their relationship to the national parks. Some of the key questions to explore include:\n",
    "\n",
    "- What is the distribution of conservation status for species?\n",
    "- Are certain types of species more likely to be endangered?\n",
    "- Are the differences between species and their conservation status significant?\n",
    "- Which animal is most prevalent and what is their distribution amongst parks?\n",
    "\n",
    "#### Actions\n",
    "\n",
    "As a project for a fictional customer there is no need to scope actions.\n",
    "\n",
    "#### Data\n",
    "\n",
    "Codecademy has provided two `csv` files filled fictional data but inspired by real information. \n",
    "The first `species_info.csv` file has information about each species and another `observations.csv` has observations of species with park locations. This data will be used to analyze the goals of the project. \n",
    "\n",
    "#### Analysis\n",
    "\n",
    "This section will utilize descriptive statistics and data visualization techniques to gain a deeper understanding of the data. Statistical inference will also be applied to determine whether the observed values are statistically significant. Key metrics to be calculated include: \n",
    "\n",
    "1. Distributions\n",
    "1. Counts\n",
    "1. Relationship between species\n",
    "1. Conservation status of species\n",
    "1. Observations of species in parks. "
   ]
  },
  {
   "cell_type": "markdown",
   "id": "da9773be-4e6d-484b-8cbe-b4292144b3b0",
   "metadata": {},
   "source": [
    "# Load data"
   ]
  },
  {
   "cell_type": "code",
   "execution_count": 4,
   "id": "89e2614b-1abf-4804-88ce-790ec5a08df8",
   "metadata": {},
   "outputs": [],
   "source": [
    "import pandas as pd\n",
    "import numpy as np\n",
    "\n",
    "from matplotlib import pyplot as plt\n",
    "import seaborn as sns\n",
    "\n",
    "%matplotlib inline"
   ]
  },
  {
   "cell_type": "markdown",
   "id": "af6c2179-13ff-4876-b032-760e9e0ada80",
   "metadata": {},
   "source": [
    "First we import neсessary python libraries. \n",
    "To work with csv data set we use Pandas. To evaluate and visualize our findings we may use Matplotlib and Seaborn."
   ]
  },
  {
   "cell_type": "markdown",
   "id": "59f5da95-a9cc-4645-8b1e-14eaa6e26726",
   "metadata": {},
   "source": [
    "## Species"
   ]
  },
  {
   "cell_type": "code",
   "execution_count": 7,
   "id": "4cbf2f47-071b-49e7-8cf4-910bf5cf0554",
   "metadata": {},
   "outputs": [
    {
     "data": {
      "text/html": [
       "<div>\n",
       "<style scoped>\n",
       "    .dataframe tbody tr th:only-of-type {\n",
       "        vertical-align: middle;\n",
       "    }\n",
       "\n",
       "    .dataframe tbody tr th {\n",
       "        vertical-align: top;\n",
       "    }\n",
       "\n",
       "    .dataframe thead th {\n",
       "        text-align: right;\n",
       "    }\n",
       "</style>\n",
       "<table border=\"1\" class=\"dataframe\">\n",
       "  <thead>\n",
       "    <tr style=\"text-align: right;\">\n",
       "      <th></th>\n",
       "      <th>category</th>\n",
       "      <th>scientific_name</th>\n",
       "      <th>common_names</th>\n",
       "      <th>conservation_status</th>\n",
       "    </tr>\n",
       "  </thead>\n",
       "  <tbody>\n",
       "    <tr>\n",
       "      <th>0</th>\n",
       "      <td>Mammal</td>\n",
       "      <td>Clethrionomys gapperi gapperi</td>\n",
       "      <td>Gapper's Red-Backed Vole</td>\n",
       "      <td>NaN</td>\n",
       "    </tr>\n",
       "    <tr>\n",
       "      <th>1</th>\n",
       "      <td>Mammal</td>\n",
       "      <td>Bos bison</td>\n",
       "      <td>American Bison, Bison</td>\n",
       "      <td>NaN</td>\n",
       "    </tr>\n",
       "    <tr>\n",
       "      <th>2</th>\n",
       "      <td>Mammal</td>\n",
       "      <td>Bos taurus</td>\n",
       "      <td>Aurochs, Aurochs, Domestic Cattle (Feral), Dom...</td>\n",
       "      <td>NaN</td>\n",
       "    </tr>\n",
       "    <tr>\n",
       "      <th>3</th>\n",
       "      <td>Mammal</td>\n",
       "      <td>Ovis aries</td>\n",
       "      <td>Domestic Sheep, Mouflon, Red Sheep, Sheep (Feral)</td>\n",
       "      <td>NaN</td>\n",
       "    </tr>\n",
       "    <tr>\n",
       "      <th>4</th>\n",
       "      <td>Mammal</td>\n",
       "      <td>Cervus elaphus</td>\n",
       "      <td>Wapiti Or Elk</td>\n",
       "      <td>NaN</td>\n",
       "    </tr>\n",
       "  </tbody>\n",
       "</table>\n",
       "</div>"
      ],
      "text/plain": [
       "  category                scientific_name  \\\n",
       "0   Mammal  Clethrionomys gapperi gapperi   \n",
       "1   Mammal                      Bos bison   \n",
       "2   Mammal                     Bos taurus   \n",
       "3   Mammal                     Ovis aries   \n",
       "4   Mammal                 Cervus elaphus   \n",
       "\n",
       "                                        common_names conservation_status  \n",
       "0                           Gapper's Red-Backed Vole                 NaN  \n",
       "1                              American Bison, Bison                 NaN  \n",
       "2  Aurochs, Aurochs, Domestic Cattle (Feral), Dom...                 NaN  \n",
       "3  Domestic Sheep, Mouflon, Red Sheep, Sheep (Feral)                 NaN  \n",
       "4                                      Wapiti Or Elk                 NaN  "
      ]
     },
     "execution_count": 7,
     "metadata": {},
     "output_type": "execute_result"
    }
   ],
   "source": [
    "species = pd.read_csv('species_info.csv',encoding='utf-8')\n",
    "species.head()"
   ]
  },
  {
   "cell_type": "markdown",
   "id": "84a92492-593f-40e4-b093-60cf6d76f594",
   "metadata": {},
   "source": [
    "The `species_info.csv` keeps information about the different species in the National Parks. It has 4 columns:\n",
    "- category - The class for each species\n",
    "- scientific_name - The scientific name of each species\n",
    "- common_names - The common names of each species\n",
    "- conservation_status - The species conservation status"
   ]
  },
  {
   "cell_type": "code",
   "execution_count": 9,
   "id": "6c104046-b5d4-4123-9139-0bfe8c07d808",
   "metadata": {},
   "outputs": [
    {
     "data": {
      "text/plain": [
       "(5824, 4)"
      ]
     },
     "execution_count": 9,
     "metadata": {},
     "output_type": "execute_result"
    }
   ],
   "source": [
    "species.shape"
   ]
  },
  {
   "cell_type": "markdown",
   "id": "d9499458-e339-4ff6-a0af-23f4a746ec2c",
   "metadata": {},
   "source": [
    "`species`has 5,824 rows and 4 columns"
   ]
  },
  {
   "cell_type": "markdown",
   "id": "ca2ea664-f068-42d2-a624-6bbd042c9b22",
   "metadata": {
    "jp-MarkdownHeadingCollapsed": true
   },
   "source": [
    "## Observations"
   ]
  },
  {
   "cell_type": "code",
   "execution_count": 12,
   "id": "51680522-e958-44d6-b48a-386a1f592dec",
   "metadata": {},
   "outputs": [
    {
     "data": {
      "text/html": [
       "<div>\n",
       "<style scoped>\n",
       "    .dataframe tbody tr th:only-of-type {\n",
       "        vertical-align: middle;\n",
       "    }\n",
       "\n",
       "    .dataframe tbody tr th {\n",
       "        vertical-align: top;\n",
       "    }\n",
       "\n",
       "    .dataframe thead th {\n",
       "        text-align: right;\n",
       "    }\n",
       "</style>\n",
       "<table border=\"1\" class=\"dataframe\">\n",
       "  <thead>\n",
       "    <tr style=\"text-align: right;\">\n",
       "      <th></th>\n",
       "      <th>scientific_name</th>\n",
       "      <th>park_name</th>\n",
       "      <th>observations</th>\n",
       "    </tr>\n",
       "  </thead>\n",
       "  <tbody>\n",
       "    <tr>\n",
       "      <th>0</th>\n",
       "      <td>Vicia benghalensis</td>\n",
       "      <td>Great Smoky Mountains National Park</td>\n",
       "      <td>68</td>\n",
       "    </tr>\n",
       "    <tr>\n",
       "      <th>1</th>\n",
       "      <td>Neovison vison</td>\n",
       "      <td>Great Smoky Mountains National Park</td>\n",
       "      <td>77</td>\n",
       "    </tr>\n",
       "    <tr>\n",
       "      <th>2</th>\n",
       "      <td>Prunus subcordata</td>\n",
       "      <td>Yosemite National Park</td>\n",
       "      <td>138</td>\n",
       "    </tr>\n",
       "    <tr>\n",
       "      <th>3</th>\n",
       "      <td>Abutilon theophrasti</td>\n",
       "      <td>Bryce National Park</td>\n",
       "      <td>84</td>\n",
       "    </tr>\n",
       "    <tr>\n",
       "      <th>4</th>\n",
       "      <td>Githopsis specularioides</td>\n",
       "      <td>Great Smoky Mountains National Park</td>\n",
       "      <td>85</td>\n",
       "    </tr>\n",
       "  </tbody>\n",
       "</table>\n",
       "</div>"
      ],
      "text/plain": [
       "            scientific_name                            park_name  observations\n",
       "0        Vicia benghalensis  Great Smoky Mountains National Park            68\n",
       "1            Neovison vison  Great Smoky Mountains National Park            77\n",
       "2         Prunus subcordata               Yosemite National Park           138\n",
       "3      Abutilon theophrasti                  Bryce National Park            84\n",
       "4  Githopsis specularioides  Great Smoky Mountains National Park            85"
      ]
     },
     "execution_count": 12,
     "metadata": {},
     "output_type": "execute_result"
    }
   ],
   "source": [
    "observations = pd.read_csv('observations.csv', encoding='utf-8')\n",
    "observations.head()"
   ]
  },
  {
   "cell_type": "markdown",
   "id": "7fa68784-b25c-458a-a7e4-961363189834",
   "metadata": {},
   "source": [
    "The `observations.csv` keeps information about observations of different species in the national parks in the past 7 days. It has 3 columns:\n",
    "\n",
    "- scientific_name - The scientific name of each species\n",
    "- park_name - The name of the national park\n",
    "- observations - The number of observations in the past 7 daysdays"
   ]
  },
  {
   "cell_type": "code",
   "execution_count": 14,
   "id": "f7da1d1d-58cd-42bb-8a53-11157bbe33e3",
   "metadata": {},
   "outputs": [
    {
     "data": {
      "text/plain": [
       "(23296, 3)"
      ]
     },
     "execution_count": 14,
     "metadata": {},
     "output_type": "execute_result"
    }
   ],
   "source": [
    "observations.shape"
   ]
  },
  {
   "cell_type": "markdown",
   "id": "cd63ceaf-d2d5-48cf-acf6-c622eab75ce4",
   "metadata": {},
   "source": [
    "`observations` has 23,296 rows and 3 columns."
   ]
  },
  {
   "cell_type": "markdown",
   "id": "33027945-0591-4c88-8959-d49bef2492aa",
   "metadata": {},
   "source": [
    "# Explore data"
   ]
  },
  {
   "cell_type": "markdown",
   "id": "c8d1412c-5496-4977-91b2-495d84141669",
   "metadata": {
    "jp-MarkdownHeadingCollapsed": true
   },
   "source": [
    "## Species"
   ]
  },
  {
   "cell_type": "code",
   "execution_count": 50,
   "id": "99ae7c6c-83ed-4c5b-8dcc-9848cd864a4a",
   "metadata": {},
   "outputs": [
    {
     "name": "stdout",
     "output_type": "stream",
     "text": [
      "The number of unique species by scientific name equals 5541\n",
      "The number of unique categories equals 7 and this is the list: ['Mammal' 'Bird' 'Reptile' 'Amphibian' 'Fish' 'Vascular Plant'\n",
      " 'Nonvascular Plant']\n"
     ]
    }
   ],
   "source": [
    "print(f'The number of unique species by scientific name equals {species.scientific_name.nunique()}')\n",
    "print(f'The number of unique categories equals {species.category.nunique()} and this is the list: {species.category.unique()}')"
   ]
  },
  {
   "cell_type": "markdown",
   "id": "d4dd483e-25f2-4050-8850-36dd8b732523",
   "metadata": {},
   "source": [
    "So we got the data including 5541 different spicies belonging to 7 categories."
   ]
  },
  {
   "cell_type": "code",
   "execution_count": 55,
   "id": "2109fc48-e8b5-41e5-b46a-79fef548b2a8",
   "metadata": {},
   "outputs": [
    {
     "data": {
      "text/plain": [
       "category\n",
       "Amphibian              80\n",
       "Bird                  521\n",
       "Fish                  127\n",
       "Mammal                214\n",
       "Nonvascular Plant     333\n",
       "Reptile                79\n",
       "Vascular Plant       4470\n",
       "dtype: int64"
      ]
     },
     "execution_count": 55,
     "metadata": {},
     "output_type": "execute_result"
    }
   ],
   "source": [
    "species.groupby(\"category\").size()"
   ]
  },
  {
   "cell_type": "markdown",
   "id": "389972cd-aa5e-4e6b-bd9d-94f305a7683e",
   "metadata": {},
   "source": [
    "Here we can see the count of each category and note that the most sizable category is Vascular Plant"
   ]
  },
  {
   "cell_type": "code",
   "execution_count": 58,
   "id": "44eafdce-bded-47de-9d05-d57468f59abc",
   "metadata": {},
   "outputs": [
    {
     "name": "stdout",
     "output_type": "stream",
     "text": [
      "The number of unique conservation statuses equals 4 and this is the list: [nan 'Species of Concern' 'Endangered' 'Threatened' 'In Recovery']\n"
     ]
    }
   ],
   "source": [
    "print(f'The number of unique conservation statuses equals {species.conservation_status.nunique()} and this is the list: {species.conservation_status.unique()}')"
   ]
  },
  {
   "cell_type": "code",
   "execution_count": 60,
   "id": "6a873324-9fff-4bb4-8be1-c092725c300e",
   "metadata": {},
   "outputs": [
    {
     "name": "stdout",
     "output_type": "stream",
     "text": [
      "The number species without a conservation stasus equals 5633\n",
      "The number species with a conservation status by each status:\n",
      "conservation_status\n",
      "Endangered             16\n",
      "In Recovery             4\n",
      "Species of Concern    161\n",
      "Threatened             10\n",
      "dtype: int64\n"
     ]
    }
   ],
   "source": [
    "print(f\"The number species without a conservation stasus equals {species.conservation_status.isna().sum()}\")\n",
    "print(\"The number species with a conservation status by each status:\")\n",
    "print(species.groupby(\"conservation_status\").size())"
   ]
  },
  {
   "cell_type": "markdown",
   "id": "2db4f443-1569-460f-806b-60392fa4e773",
   "metadata": {
    "jp-MarkdownHeadingCollapsed": true
   },
   "source": [
    "## Observations"
   ]
  },
  {
   "cell_type": "code",
   "execution_count": 66,
   "id": "f043bdb7-e6cb-43a7-b739-340ef5f5ac76",
   "metadata": {},
   "outputs": [
    {
     "name": "stdout",
     "output_type": "stream",
     "text": [
      "The number of parks in observations equals 4 and this is the list: ['Great Smoky Mountains National Park' 'Yosemite National Park'\n",
      " 'Bryce National Park' 'Yellowstone National Park']\n"
     ]
    }
   ],
   "source": [
    "print(f'The number of parks in observations equals {observations.park_name.nunique()} and this is the list: {observations.park_name.unique()}')"
   ]
  },
  {
   "cell_type": "markdown",
   "id": "7167698b-7d72-4d7f-9e3f-986bf231e842",
   "metadata": {},
   "source": [
    "We have observations from 4 parks"
   ]
  },
  {
   "cell_type": "code",
   "execution_count": 73,
   "id": "907011b4-f2b1-4f8e-b522-6e0991b29362",
   "metadata": {},
   "outputs": [
    {
     "name": "stdout",
     "output_type": "stream",
     "text": [
      "Total number of observations all species equals 3314739\n"
     ]
    }
   ],
   "source": [
    "print(f'Total number of observations all species equals {observations.observations.sum()}')"
   ]
  },
  {
   "cell_type": "markdown",
   "id": "6436cd30-9d40-40b1-ae7a-b3e18201e610",
   "metadata": {},
   "source": [
    "# Analysis"
   ]
  },
  {
   "cell_type": "markdown",
   "id": "7441d33d-aca5-49d9-9a9d-ad64d8f65ea5",
   "metadata": {},
   "source": [
    "First, before we start analyze we have to concern about null values which we have in conversation_status in species"
   ]
  },
  {
   "cell_type": "code",
   "execution_count": 79,
   "id": "3acc4307-fe4b-4d5d-8935-40da66dce1c4",
   "metadata": {},
   "outputs": [
    {
     "data": {
      "text/plain": [
       "conservation_status\n",
       "Endangered              16\n",
       "In Recovery              4\n",
       "Ok                    5633\n",
       "Species of Concern     161\n",
       "Threatened              10\n",
       "dtype: int64"
      ]
     },
     "execution_count": 79,
     "metadata": {},
     "output_type": "execute_result"
    }
   ],
   "source": [
    "species.fillna('Ok', inplace=True)\n",
    "species.groupby(\"conservation_status\").size()"
   ]
  },
  {
   "cell_type": "markdown",
   "id": "f39685af-e7a2-4519-997f-e4a5955280cc",
   "metadata": {},
   "source": [
    "The next step is transforming our DataFrame to show the number of species in a certain conservation status for every category."
   ]
  },
  {
   "cell_type": "code",
   "execution_count": 174,
   "id": "37f6f7ed-85f1-409e-82cb-fc57d5a8827f",
   "metadata": {},
   "outputs": [
    {
     "data": {
      "text/html": [
       "<div>\n",
       "<style scoped>\n",
       "    .dataframe tbody tr th:only-of-type {\n",
       "        vertical-align: middle;\n",
       "    }\n",
       "\n",
       "    .dataframe tbody tr th {\n",
       "        vertical-align: top;\n",
       "    }\n",
       "\n",
       "    .dataframe thead th {\n",
       "        text-align: right;\n",
       "    }\n",
       "</style>\n",
       "<table border=\"1\" class=\"dataframe\">\n",
       "  <thead>\n",
       "    <tr style=\"text-align: right;\">\n",
       "      <th>category</th>\n",
       "      <th>Amphibian</th>\n",
       "      <th>Bird</th>\n",
       "      <th>Fish</th>\n",
       "      <th>Mammal</th>\n",
       "      <th>Nonvascular Plant</th>\n",
       "      <th>Reptile</th>\n",
       "      <th>Vascular Plant</th>\n",
       "    </tr>\n",
       "    <tr>\n",
       "      <th>conservation_status</th>\n",
       "      <th></th>\n",
       "      <th></th>\n",
       "      <th></th>\n",
       "      <th></th>\n",
       "      <th></th>\n",
       "      <th></th>\n",
       "      <th></th>\n",
       "    </tr>\n",
       "  </thead>\n",
       "  <tbody>\n",
       "    <tr>\n",
       "      <th>Endangered</th>\n",
       "      <td>1.0</td>\n",
       "      <td>4.0</td>\n",
       "      <td>3.0</td>\n",
       "      <td>7.0</td>\n",
       "      <td>NaN</td>\n",
       "      <td>NaN</td>\n",
       "      <td>1.0</td>\n",
       "    </tr>\n",
       "    <tr>\n",
       "      <th>In Recovery</th>\n",
       "      <td>NaN</td>\n",
       "      <td>3.0</td>\n",
       "      <td>NaN</td>\n",
       "      <td>1.0</td>\n",
       "      <td>NaN</td>\n",
       "      <td>NaN</td>\n",
       "      <td>NaN</td>\n",
       "    </tr>\n",
       "    <tr>\n",
       "      <th>Species of Concern</th>\n",
       "      <td>4.0</td>\n",
       "      <td>72.0</td>\n",
       "      <td>4.0</td>\n",
       "      <td>28.0</td>\n",
       "      <td>5.0</td>\n",
       "      <td>5.0</td>\n",
       "      <td>43.0</td>\n",
       "    </tr>\n",
       "    <tr>\n",
       "      <th>Threatened</th>\n",
       "      <td>2.0</td>\n",
       "      <td>NaN</td>\n",
       "      <td>4.0</td>\n",
       "      <td>2.0</td>\n",
       "      <td>NaN</td>\n",
       "      <td>NaN</td>\n",
       "      <td>2.0</td>\n",
       "    </tr>\n",
       "  </tbody>\n",
       "</table>\n",
       "</div>"
      ],
      "text/plain": [
       "category             Amphibian  Bird  Fish  Mammal  Nonvascular Plant  \\\n",
       "conservation_status                                                     \n",
       "Endangered                 1.0   4.0   3.0     7.0                NaN   \n",
       "In Recovery                NaN   3.0   NaN     1.0                NaN   \n",
       "Species of Concern         4.0  72.0   4.0    28.0                5.0   \n",
       "Threatened                 2.0   NaN   4.0     2.0                NaN   \n",
       "\n",
       "category             Reptile  Vascular Plant  \n",
       "conservation_status                           \n",
       "Endangered               NaN             1.0  \n",
       "In Recovery              NaN             NaN  \n",
       "Species of Concern       5.0            43.0  \n",
       "Threatened               NaN             2.0  "
      ]
     },
     "execution_count": 174,
     "metadata": {},
     "output_type": "execute_result"
    }
   ],
   "source": [
    "conservationCategory = species[species.conservation_status != \"Ok\"]\\\n",
    "    .groupby([\"conservation_status\", \"category\"])['scientific_name']\\\n",
    "    .count()\\\n",
    "    .unstack()\n",
    "    ##.reset_index()\\\n",
    "    ##.pivot(columns='category', values='scientific_name', index='conservation_status')\n",
    "\n",
    "conservationCategory"
   ]
  },
  {
   "cell_type": "markdown",
   "id": "8996d4fc-6b5f-4128-8583-770c185446fd",
   "metadata": {},
   "source": [
    "Finally we can draw the distribution of conservation_status for animals which we are looking for"
   ]
  },
  {
   "cell_type": "code",
   "execution_count": 188,
   "id": "1c2728d0-8af8-4312-be94-227a8d2dfc9d",
   "metadata": {},
   "outputs": [
    {
     "data": {
      "text/plain": [
       "Text(0, 0.5, 'Number of Species')"
      ]
     },
     "execution_count": 188,
     "metadata": {},
     "output_type": "execute_result"
    },
    {
     "data": {
      "image/png": "[encoded data removed]",
      "text/plain": [
       "<Figure size 800x600 with 1 Axes>"
      ]
     },
     "metadata": {},
     "output_type": "display_data"
    }
   ],
   "source": [
    "ax = conservationCategory.plot(kind = 'bar', figsize=(8,6), stacked=True, rot=0)\n",
    "ax.set_xlabel(\"Conservation Status\")\n",
    "ax.set_ylabel(\"Number of Species\")"
   ]
  },
  {
   "cell_type": "code",
   "execution_count": null,
   "id": "25dc9b24-1417-445a-80b4-c52309643d41",
   "metadata": {},
   "outputs": [],
   "source": []
  }
 ],
 "metadata": {
  "kernelspec": {
   "display_name": "Python 3 (ipykernel)",
   "language": "python",
   "name": "python3"
  },
  "language_info": {
   "codemirror_mode": {
    "name": "ipython",
    "version": 3
   },
   "file_extension": ".py",
   "mimetype": "text/x-python",
   "name": "python",
   "nbconvert_exporter": "python",
   "pygments_lexer": "ipython3",
   "version": "3.11.7"
  }
 },
 "nbformat": 4,
 "nbformat_minor": 5
}
