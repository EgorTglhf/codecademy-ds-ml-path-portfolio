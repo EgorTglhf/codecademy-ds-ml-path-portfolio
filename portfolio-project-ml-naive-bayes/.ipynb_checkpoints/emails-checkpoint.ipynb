{
 "cells": [
  {
   "cell_type": "code",
   "execution_count": 1,
   "id": "dac6a74b-21a5-4ca1-ad20-3a448e589da1",
   "metadata": {},
   "outputs": [],
   "source": [
    "from sklearn.datasets import fetch_20newsgroups\n",
    "from sklearn.naive_bayes import MultinomialNB\n",
    "from sklearn.feature_extraction.text import CountVectorizer"
   ]
  },
  {
   "cell_type": "code",
   "execution_count": 3,
   "id": "774beecc-1087-42ae-8967-aef6165346cc",
   "metadata": {},
   "outputs": [
    {
     "name": "stdout",
     "output_type": "stream",
     "text": [
      "0.9723618090452262\n"
     ]
    }
   ],
   "source": [
    "train_emails = fetch_20newsgroups(categories=['rec.sport.baseball', 'rec.sport.hockey'], subset='train', shuffle=True, random_state=108)\n",
    "test_emails  = fetch_20newsgroups(categories=['rec.sport.baseball', 'rec.sport.hockey'], subset='test', shuffle=True, random_state=108)\n",
    "\n",
    "counter = CountVectorizer()\n",
    "counter.fit(test_emails.data + train_emails.data)\n",
    "\n",
    "train_counts = counter.transform(train_emails.data)\n",
    "test_counts = counter.transform(test_emails.data)\n",
    "\n",
    "classifier = MultinomialNB()\n",
    "\n",
    "classifier.fit(train_counts, train_emails.target)\n",
    "\n",
    "print(classifier.score(test_counts, test_emails.target))"
   ]
  },
  {
   "cell_type": "code",
   "execution_count": 5,
   "id": "8da4e089-1077-4ffa-a210-e954f73c6f0e",
   "metadata": {},
   "outputs": [
    {
     "name": "stdout",
     "output_type": "stream",
     "text": [
      "0.9974715549936789\n"
     ]
    }
   ],
   "source": [
    "train_emails = fetch_20newsgroups(categories=['comp.sys.ibm.pc.hardware','rec.sport.hockey'], subset='train', shuffle=True, random_state=108)\n",
    "test_emails  = fetch_20newsgroups(categories=['comp.sys.ibm.pc.hardware','rec.sport.hockey'], subset='test', shuffle=True, random_state=108)\n",
    "\n",
    "counter = CountVectorizer()\n",
    "counter.fit(test_emails.data + train_emails.data)\n",
    "\n",
    "train_counts = counter.transform(train_emails.data)\n",
    "test_counts = counter.transform(test_emails.data)\n",
    "\n",
    "classifier = MultinomialNB()\n",
    "\n",
    "classifier.fit(train_counts, train_emails.target)\n",
    "\n",
    "print(classifier.score(test_counts, test_emails.target))"
   ]
  },
  {
   "cell_type": "code",
   "execution_count": null,
   "id": "669ebe18-075b-473a-86b3-5cac6c54b78a",
   "metadata": {},
   "outputs": [],
   "source": []
  }
 ],
 "metadata": {
  "kernelspec": {
   "display_name": "Python 3 (ipykernel)",
   "language": "python",
   "name": "python3"
  },
  "language_info": {
   "codemirror_mode": {
    "name": "ipython",
    "version": 3
   },
   "file_extension": ".py",
   "mimetype": "text/x-python",
   "name": "python",
   "nbconvert_exporter": "python",
   "pygments_lexer": "ipython3",
   "version": "3.11.7"
  }
 },
 "nbformat": 4,
 "nbformat_minor": 5
}
