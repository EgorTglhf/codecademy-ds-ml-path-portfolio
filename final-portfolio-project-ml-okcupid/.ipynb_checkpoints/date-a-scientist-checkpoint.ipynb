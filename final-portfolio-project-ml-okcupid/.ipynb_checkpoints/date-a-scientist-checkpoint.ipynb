{
 "cells": [
  {
   "cell_type": "markdown",
   "metadata": {},
   "source": [
    "# Introduction\n",
    "\n",
    "Dating apps have become a popular and widely-used mechanism for people to connect and build relationships in the digital age. They generate rich, diverse datasets that offer fascinating opportunities to explore patterns in human behavior, preferences, and interactions. Analyzing data from these platforms can provide unique insights into social dynamics and modern relationship trends.\n",
    "\n",
    "The aim of this project is to define the scope, prepare and analyze data, and develop a machine learning model to address a specific question.\n",
    "\n",
    "\n",
    "**Data sources:**\n",
    "\n",
    "`profiles.csv` was provided by Codecademy.com."
   ]
  },
  {
   "cell_type": "markdown",
   "metadata": {},
   "source": [
    "## Scoping\n",
    "\n",
    "Project Scoping is the helpful beginning of the project. It helps to recognize and line up the structure while requiring you to think through your entire project before you begin. \n",
    "Considering [Data Science Project Scoping Guide](https://www.datasciencepublicpolicy.org/our-work/tools-guides/data-science-project-scoping-guide/) it will be good to start with setting high-level goals of the project, determination which actions could be done or improved and data we need and where we can gather them, and, finally, the description of following analysis and which techniques could be implemented.\n",
    "\n",
    "### Goals\n",
    "\n",
    "The goal of this project is to apply the skills gained from Codecademy to a dataset using machine learning techniques. The main research question is whether an OkCupid user's astrological sign can be predicted based on other profile variables. This project holds significance because many users consider astrological signs important in matches, and if a user doesn't provide their sign, OkCupid would benefit from predicting it.\n",
    "\n",
    "### Actions\n",
    "\n",
    "As a project for a fictional customer there is no need to scope actions.\n",
    "\n",
    "### Data\n",
    "\n",
    "The project utilizes a dataset provided by Codecademy, named `profiles.csv`. Each row in the dataset represents an OkCupid user, with columns containing their responses to various profile questions, including multiple-choice and short answer questions.\n",
    "\n",
    "### Analysis\n",
    "\n",
    "This solution will employ descriptive statistics and data visualization to identify key figures that reveal the distribution, count, and relationships among variables. To achieve the project's goal of predicting users' astrological signs, classification algorithms from the supervised learning category of machine learning models will be utilized.\n",
    "\n",
    "The project will end with an evaluation of the chosen machine learning model using a validation dataset. The results will be assessed through a confusion matrix, along with metrics including accuracy, precision, recall, F1 score, and Kappa score."
   ]
  },
  {
   "cell_type": "code",
   "execution_count": null,
   "metadata": {},
   "outputs": [],
   "source": []
  }
 ],
 "metadata": {
  "kernelspec": {
   "display_name": "Python 3 (ipykernel)",
   "language": "python",
   "name": "python3"
  },
  "language_info": {
   "codemirror_mode": {
    "name": "ipython",
    "version": 3
   },
   "file_extension": ".py",
   "mimetype": "text/x-python",
   "name": "python",
   "nbconvert_exporter": "python",
   "pygments_lexer": "ipython3",
   "version": "3.11.7"
  }
 },
 "nbformat": 4,
 "nbformat_minor": 4
}
