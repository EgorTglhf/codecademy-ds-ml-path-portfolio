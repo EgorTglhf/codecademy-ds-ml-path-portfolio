{
 "cells": [
  {
   "cell_type": "markdown",
   "metadata": {},
   "source": [
    "# U.S. Medical Insurance Costs\n",
    "\n",
    "This is the first project on Codecademy Data Scientist: Machine Learning Career Path.\n",
    "The given by Codeacademy dataset has been taken from [kaggle](https://www.kaggle.com/datasets/mirichoi0218/insurance) and stored in **insurance.csv**.\n",
    "It has 1338 records about different insurants. The data includes information about age, sex, bmi, number of children, smoker or not, region and final charge.\n",
    "\n",
    "In this project, we will use Python fundamentals to explore a CSV file containing medical insurance costs. The objective is to analyze various attributes within the insurance.csv file to gain a deeper understanding of the patient information it contains and to identify potential use cases for the dataset."
   ]
  },
  {
   "cell_type": "markdown",
   "metadata": {},
   "source": [
    "## The first stage: Load data"
   ]
  },
  {
   "cell_type": "code",
   "execution_count": 3,
   "metadata": {},
   "outputs": [],
   "source": [
    "# import csv library\n",
    "import csv"
   ]
  },
  {
   "cell_type": "markdown",
   "metadata": {},
   "source": [
    "We are working with a CSV file, that obviously means we need csv library."
   ]
  },
  {
   "cell_type": "markdown",
   "metadata": {},
   "source": [
    "Afters the first view on the file we have noticed next essentials: \n",
    "* There are 1338 insurant records\n",
    "* Every record has 4 columns containing quantitative values: Age, BMI, Number of children, Final charge\n",
    "* Every record has 3 columns containing categorical values: Sex, Smoker or not, Region\n",
    "* There is not any missing data"
   ]
  },
  {
   "cell_type": "code",
   "execution_count": 6,
   "metadata": {},
   "outputs": [],
   "source": [
    "# create empty lists for the various attributes from insurance.csv\n",
    "ages = []\n",
    "sexes = []\n",
    "bmis = []\n",
    "num_children = []\n",
    "smoker_statuses = []\n",
    "regions = []\n",
    "insurance_charges = []"
   ]
  },
  {
   "cell_type": "markdown",
   "metadata": {},
   "source": [
    "To make the analysis easier we will separate each columns to its own list. Now we have created empty lists that will be filled in next steps."
   ]
  },
  {
   "cell_type": "code",
   "execution_count": 8,
   "metadata": {},
   "outputs": [],
   "source": [
    "# the function which takes file name, column name and load the data from this file and this column to the corresponding list\n",
    "def load_data_to_list(file_name, column_name, list):\n",
    "    with open(file_name) as data_csv:\n",
    "        data_csv_dict = csv.DictReader(data_csv)\n",
    "        for row in data_csv_dict:\n",
    "            list.append(row[column_name])\n",
    "    return list"
   ]
  },
  {
   "cell_type": "markdown",
   "metadata": {},
   "source": [
    "We have created the helper function which loads data from csv to the corresponding list."
   ]
  },
  {
   "cell_type": "code",
   "execution_count": 10,
   "metadata": {},
   "outputs": [],
   "source": [
    "# the constant which keeps the name of the data file\n",
    "INSURANCE_FILE_NAME = 'insurance.csv'"
   ]
  },
  {
   "cell_type": "markdown",
   "metadata": {},
   "source": [
    "We are working with the only one file, so we can save its name into the variable like a constant."
   ]
  },
  {
   "cell_type": "code",
   "execution_count": 12,
   "metadata": {},
   "outputs": [
    {
     "name": "stdout",
     "output_type": "stream",
     "text": [
      "Data has been loaded\n"
     ]
    }
   ],
   "source": [
    "# call the function for every column\n",
    "load_data_to_list(INSURANCE_FILE_NAME, 'age', ages)\n",
    "load_data_to_list(INSURANCE_FILE_NAME, 'sex', sexes)\n",
    "load_data_to_list(INSURANCE_FILE_NAME, 'bmi', bmis)\n",
    "load_data_to_list(INSURANCE_FILE_NAME, 'children', num_children)\n",
    "load_data_to_list(INSURANCE_FILE_NAME, 'smoker', smoker_statuses)\n",
    "load_data_to_list(INSURANCE_FILE_NAME, 'region', regions)\n",
    "load_data_to_list(INSURANCE_FILE_NAME, 'charges', insurance_charges)\n",
    "print(\"Data has been loaded\")"
   ]
  },
  {
   "cell_type": "markdown",
   "metadata": {},
   "source": [
    "After the function is implemented we can call it as many times as we need\n",
    "\n",
    "---"
   ]
  },
  {
   "cell_type": "markdown",
   "metadata": {},
   "source": [
    "## The end of the first stage: The first questions"
   ]
  },
  {
   "cell_type": "markdown",
   "metadata": {
    "jp-MarkdownHeadingCollapsed": true
   },
   "source": [
    "We succesfully have loaded all the data from **insurance.csv** to the corresponding lists. Here is the point where we can concentrate on the questions what exactly do we want and can extract from the data.\n",
    "\n",
    "The following tasks will be implemented in next steps:\n",
    "\n",
    " * Find out the average age of the patients in the dataset\n",
    " * Analyze where a majority of the individuals are from\n",
    " * Look at the different costs between smokers vs. non-smokers\n",
    " * Figure out what the average age is for someone who has at least one child in this dataset"
   ]
  },
  {
   "cell_type": "markdown",
   "metadata": {},
   "source": [
    "## The second stage: Implementation of the functions for answering the first questions"
   ]
  },
  {
   "cell_type": "code",
   "execution_count": 17,
   "metadata": {},
   "outputs": [],
   "source": [
    "# the function which returns the average age between the insurants\n",
    "def get_average_age():\n",
    "    total_age = 0\n",
    "    for age in ages:\n",
    "        total_age += float(age)\n",
    "    return total_age / len(ages)"
   ]
  },
  {
   "cell_type": "code",
   "execution_count": 18,
   "metadata": {},
   "outputs": [],
   "source": [
    "# the function which determines how many insurants are from different regions and returns dictionary {region: number of insurants}\n",
    "def get_regions_by_number_of_insurants():\n",
    "    regions_by_number_of_insurants = {}\n",
    "    for region in regions:\n",
    "        if (region in regions_by_number_of_insurants): \n",
    "            regions_by_number_of_insurants[region] += 1\n",
    "        else:\n",
    "            regions_by_number_of_insurants[region] = 1\n",
    "    return regions_by_number_of_insurants"
   ]
  },
  {
   "cell_type": "code",
   "execution_count": 19,
   "metadata": {},
   "outputs": [],
   "source": [
    "# the function which calculates the region with the maximum number of insurants and return tuple (region, number of insurants)\n",
    "def get_region_max_of_insurants():\n",
    "    regions_by_number_of_insurants = get_regions_by_number_of_insurants()\n",
    "    max_number = float('-inf')\n",
    "    max_region = \"\"\n",
    "    for region, number in regions_by_number_of_insurants.items():\n",
    "        if number > max_number:\n",
    "            max_number = number\n",
    "            max_region = region\n",
    "    return (max_region, max_number)"
   ]
  },
  {
   "cell_type": "code",
   "execution_count": 20,
   "metadata": {},
   "outputs": [],
   "source": [
    "# the function which calculates the average charge for corresponding insurants with attribute smoker or not equaling the input one\n",
    "def get_average_charge_by_smoker_attr(smoker):\n",
    "    total_charge = 0\n",
    "    total_insurants = 0\n",
    "    for i in range(len(smoker_statuses)):\n",
    "        if smoker_statuses[i] == smoker:\n",
    "            total_charge += float(insurance_charges[i])\n",
    "            total_insurants += 1\n",
    "    return total_charge / total_insurants"
   ]
  },
  {
   "cell_type": "code",
   "execution_count": 21,
   "metadata": {},
   "outputs": [],
   "source": [
    "# the function which calculates the average age for insurants who have at least 1 child\n",
    "def get_average_age_of_parents():\n",
    "    total_parents = 0\n",
    "    total_age = 0\n",
    "    for i in range(len(num_children)):\n",
    "        if float(num_children[i]) > 0:\n",
    "            total_parents += 1\n",
    "            total_age += float(ages[i])\n",
    "    return total_age / total_parents"
   ]
  },
  {
   "cell_type": "markdown",
   "metadata": {},
   "source": [
    "Above there are implemention of several functions which will help us in analysis and will give us answers to the questions.\n",
    "\n",
    "---"
   ]
  },
  {
   "cell_type": "markdown",
   "metadata": {},
   "source": [
    "## The third stage: The answers to the first questions"
   ]
  },
  {
   "cell_type": "markdown",
   "metadata": {},
   "source": [
    "Often the common question is what does the average customer look like. And now we have known the age of the average customer."
   ]
  },
  {
   "cell_type": "code",
   "execution_count": 25,
   "metadata": {},
   "outputs": [
    {
     "name": "stdout",
     "output_type": "stream",
     "text": [
      "The age of an average insurant equals 39 years.\n"
     ]
    }
   ],
   "source": [
    "print(\"The age of an average insurant equals {} years.\".format(round(get_average_age())))"
   ]
  },
  {
   "cell_type": "markdown",
   "metadata": {},
   "source": [
    "*But how does the entire insurant population look? Is there a lot of mid-age people or an insurant could be an any-age person?*"
   ]
  },
  {
   "cell_type": "markdown",
   "metadata": {},
   "source": [
    "Also we have determined the region with the maximal number of insurants."
   ]
  },
  {
   "cell_type": "code",
   "execution_count": 28,
   "metadata": {},
   "outputs": [
    {
     "name": "stdout",
     "output_type": "stream",
     "text": [
      "Southeast is the region with the maximal number of insurants. This amount equals 364.\n"
     ]
    }
   ],
   "source": [
    "region_with_max_insurants = get_region_max_of_insurants()[0]\n",
    "max_insurants = get_region_max_of_insurants()[1]\n",
    "print(\"{} is the region with the maximal number of insurants. This amount equals {}.\".format(region_with_max_insurants.title(), max_insurants))"
   ]
  },
  {
   "cell_type": "markdown",
   "metadata": {},
   "source": [
    "From this point we can formulate that an average insurant is a 39-year-old person from the Southeast region.\n",
    "This knowledge will be important when an insurance company will be developing its products."
   ]
  },
  {
   "cell_type": "markdown",
   "metadata": {},
   "source": [
    "*But can we really be sure that the large majority of insurants are from this region?*"
   ]
  },
  {
   "cell_type": "markdown",
   "metadata": {},
   "source": [
    "In addition we can definitely distinguish influence of habbits to the insurance price."
   ]
  },
  {
   "cell_type": "code",
   "execution_count": 32,
   "metadata": {},
   "outputs": [
    {
     "name": "stdout",
     "output_type": "stream",
     "text": [
      "The insurance averagely costs 32050 for smokers and 8434 for not-smokers! The difference equals 23616.\n"
     ]
    }
   ],
   "source": [
    "average_charge_smoker = get_average_charge_by_smoker_attr('yes')\n",
    "average_charge_non_smoker = get_average_charge_by_smoker_attr('no')\n",
    "print(\"The insurance averagely costs {} for smokers and {} for not-smokers! The difference equals {}.\".format(round(average_charge_smoker), round(average_charge_non_smoker), round(abs(average_charge_smoker - average_charge_non_smoker))))"
   ]
  },
  {
   "cell_type": "markdown",
   "metadata": {},
   "source": [
    "Imagine, smoking increases your final charge more than 23 thousands dollars."
   ]
  },
  {
   "cell_type": "markdown",
   "metadata": {},
   "source": [
    "*But is there another significant dependence? What's about genders?*"
   ]
  },
  {
   "cell_type": "markdown",
   "metadata": {},
   "source": [
    "Extra knowledge which we can extract from the origin dataset is about parenthood. Hardly we can consider the given dataset as a representative sample for the entire population, but at least we can look at it from perspective the part of population who have the insurance."
   ]
  },
  {
   "cell_type": "code",
   "execution_count": 36,
   "metadata": {},
   "outputs": [
    {
     "name": "stdout",
     "output_type": "stream",
     "text": [
      "The average age for insurants who have at least 1 child equals 40.\n"
     ]
    }
   ],
   "source": [
    "print(\"The average age for insurants who have at least 1 child equals {}.\".format(round(get_average_age_of_parents())))"
   ]
  },
  {
   "cell_type": "markdown",
   "metadata": {},
   "source": [
    "That is really interesting, because we can see that average age for parents with insurance almost equals the average age between all the insurants. 40 years and 39 years accordingly. "
   ]
  },
  {
   "cell_type": "markdown",
   "metadata": {},
   "source": [
    "*But might there be the significant difference between who prefer the insurance more: parents or not-parents?*"
   ]
  },
  {
   "cell_type": "markdown",
   "metadata": {},
   "source": [
    "## The end of the third stage: The answers give more questions"
   ]
  },
  {
   "cell_type": "markdown",
   "metadata": {},
   "source": [
    "During analysis we have recieved answers for asked above questions. And we can make some conclusions. But the more answers we get the more questions appear. So the next steps of analysis will answer to next questions:\n",
    " * What is the standard deviation of the mean ages?\n",
    " * How much is difference between the most populated by insurants region and others?\n",
    " * Is there the different costs between males and females\n",
    " * Who buys the insurance more: parent or not-parents?"
   ]
  },
  {
   "cell_type": "markdown",
   "metadata": {},
   "source": [
    "## The forth stage: Implementation of the functions for answering the next questions"
   ]
  },
  {
   "cell_type": "code",
   "execution_count": 42,
   "metadata": {},
   "outputs": [],
   "source": [
    "# the function which returns the standart deviation from average_age between the insurants;\n",
    "#  obviously would be better to implement this functionality inside the only one function for to go through the list only once, \n",
    "#  but imagine we can't change previous work and we are working iteratively\n",
    "def get_standart_deviation_from_average_age():\n",
    "    average_age = get_average_age()\n",
    "    sum_squares_deviations = 0\n",
    "    for age in ages:\n",
    "        sum_squares_deviations += (average_age - float(age)) ** 2\n",
    "    return (sum_squares_deviations / len(ages)) ** 0.5"
   ]
  },
  {
   "cell_type": "code",
   "execution_count": 43,
   "metadata": {},
   "outputs": [],
   "source": [
    "# the function which returns dictionary with regions which DO NOT have maximal number of insurance and their difference with region which DO have\n",
    "#  again, obviously would be better to implement this functionality inside one previous function for not to go through lists and dictionaries several times\n",
    "#  but imagine we can't change previous work and work iteratively\n",
    "def get_regions_insurants_difference_with_max():\n",
    "    regions_by_number_of_insurants = get_regions_by_number_of_insurants()\n",
    "    region_max_of_insurants = get_region_max_of_insurants()\n",
    "    region_difference_with_max_insurant = {}\n",
    "    for region, num_insurants in regions_by_number_of_insurants.items():\n",
    "        if region == region_max_of_insurants[0]: continue\n",
    "        region_difference_with_max_insurant[region] = region_max_of_insurants[1] - num_insurants\n",
    "    return region_difference_with_max_insurant"
   ]
  },
  {
   "cell_type": "code",
   "execution_count": 44,
   "metadata": {},
   "outputs": [],
   "source": [
    "# the function which returns dictionary with average charge for males and females\n",
    "def get_average_charge_for_genders():\n",
    "    total_charges_male = 0\n",
    "    total_male = 0\n",
    "    total_charges_female = 0\n",
    "    total_female = 0\n",
    "    for i in range(len(insurance_charges)):\n",
    "        if sexes[i] == 'male':\n",
    "            total_charges_male += float(insurance_charges[i])\n",
    "            total_male += 1\n",
    "        else:\n",
    "            total_charges_female += float(insurance_charges[i])\n",
    "            total_female += 1\n",
    "    sex_charges = {'male': total_charges_male / total_male, 'female': total_charges_female / total_female}\n",
    "    return sex_charges"
   ]
  },
  {
   "cell_type": "code",
   "execution_count": 45,
   "metadata": {},
   "outputs": [],
   "source": [
    "# the function which returns dictionary with number of insurants by having children(parent) or not (not-parent)\n",
    "def get_number_of_insurants_by_parent_or_not():\n",
    "    number_of_insurants_by_parent_or_not = {'parent': 0, 'not-parent': 0}\n",
    "    for num in num_children:\n",
    "        if float(num) > 0:\n",
    "            number_of_insurants_by_parent_or_not['parent'] += 1\n",
    "        else:\n",
    "            number_of_insurants_by_parent_or_not['not-parent'] += 1\n",
    "    return number_of_insurants_by_parent_or_not"
   ]
  },
  {
   "cell_type": "markdown",
   "metadata": {},
   "source": [
    "Above there are implemention of several functions which will help us in analysis and will give us answers to the questions.\n",
    "\n",
    "---"
   ]
  },
  {
   "cell_type": "markdown",
   "metadata": {},
   "source": [
    "## The fifth stage: The answers to the second questions"
   ]
  },
  {
   "cell_type": "markdown",
   "metadata": {},
   "source": [
    "We remember that the average age is 39 years. And now we can calculate the standart deviation."
   ]
  },
  {
   "cell_type": "code",
   "execution_count": 49,
   "metadata": {},
   "outputs": [
    {
     "name": "stdout",
     "output_type": "stream",
     "text": [
      "Standart deviation for the age of insurants equals 14.0\n"
     ]
    }
   ],
   "source": [
    "print(\"Standart deviation for the age of insurants equals {}\".format(round(get_standart_deviation_from_average_age(), 0)))"
   ]
  },
  {
   "cell_type": "markdown",
   "metadata": {},
   "source": [
    "That all means that the insurants are represented as any-age persons and there is not any preconditions to distinguish age group of people who buy insurance. At least we can not say so standing on this point. Undoubtely the situation can become clearer due to exploration an age distribution."
   ]
  },
  {
   "cell_type": "markdown",
   "metadata": {},
   "source": [
    "Previous analysis gave us that the Southeast region is the region with the maximal number of insurants and has 364 insurants.\n",
    "And now we have looked the difference between other regions."
   ]
  },
  {
   "cell_type": "code",
   "execution_count": 52,
   "metadata": {},
   "outputs": [
    {
     "name": "stdout",
     "output_type": "stream",
     "text": [
      "In the Southwest region total amount of insurants equals 325 and it is 39 less than the maximal amount.\n",
      "In the Northwest region total amount of insurants equals 325 and it is 39 less than the maximal amount.\n",
      "In the Northeast region total amount of insurants equals 324 and it is 40 less than the maximal amount.\n"
     ]
    }
   ],
   "source": [
    "regions_insurants_difference_with_max = get_regions_insurants_difference_with_max()\n",
    "for region, diff_num_insurants in regions_insurants_difference_with_max.items():\n",
    "    print(\"In the {} region total amount of insurants equals {} and it is {} less than the maximal amount.\".format(region.title(), get_regions_by_number_of_insurants()[region], diff_num_insurants))"
   ]
  },
  {
   "cell_type": "markdown",
   "metadata": {},
   "source": [
    "Actually we don't have permissions to say that the Southeast is not the largest by insurants, but we see that the difference from other regions is not essential and suprisingly pretty equal between other regions."
   ]
  },
  {
   "cell_type": "markdown",
   "metadata": {},
   "source": [
    "We have defined the significant difference in charges depending on an insurant is smoker or is not.\n",
    "And now the more worrying question. What is the difference between genders?"
   ]
  },
  {
   "cell_type": "code",
   "execution_count": 55,
   "metadata": {},
   "outputs": [
    {
     "name": "stdout",
     "output_type": "stream",
     "text": [
      "The insurance for males averagely costs 13957.0 and for females 12570.0. The difference is 1387.0.\n"
     ]
    }
   ],
   "source": [
    "average_charge_for_genders = get_average_charge_for_genders()\n",
    "average_price_male = average_charge_for_genders['male']\n",
    "average_price_female = average_charge_for_genders['female']\n",
    "print(\"The insurance for males averagely costs {} and for females {}. The difference is {}.\".format(round(average_price_male, 0), round(average_price_female, 0), round(abs(average_price_male - average_price_female), 0)))"
   ]
  },
  {
   "cell_type": "markdown",
   "metadata": {},
   "source": [
    "It is not an ideal situation. There is a difference between costs and insurance companies sell insurance a little costlier to males. But this difference is not really essential."
   ]
  },
  {
   "cell_type": "markdown",
   "metadata": {},
   "source": [
    "And the last question we have is about parents and not-parent."
   ]
  },
  {
   "cell_type": "code",
   "execution_count": 58,
   "metadata": {},
   "outputs": [
    {
     "name": "stdout",
     "output_type": "stream",
     "text": [
      "From all the insurants there are 764 parents and 574 not-parents\n"
     ]
    }
   ],
   "source": [
    "number_of_insurants_by_parent_or_not = get_number_of_insurants_by_parent_or_not()\n",
    "print(\"From all the insurants there are {} parents and {} not-parents\".format(number_of_insurants_by_parent_or_not['parent'], number_of_insurants_by_parent_or_not['not-parent']))"
   ]
  },
  {
   "cell_type": "markdown",
   "metadata": {},
   "source": [
    "As we can see there are more insurants who are parents. But still we can not say why exactly this is so. Let's consider that as a fact while we are standing on this point."
   ]
  },
  {
   "cell_type": "markdown",
   "metadata": {},
   "source": [
    "## The final stage: Conslusions"
   ]
  },
  {
   "cell_type": "markdown",
   "metadata": {},
   "source": [
    "In the beggining we had the dataset with records of different insurants. We loaded it to specially organized lists. Right after we started analysis and wondered the first several questions. Then we implemented proper functions which helped us to find answers. Answers only inspired us to make another seria of questions. And then again we implemented proper functions to find answers interested us. That what we have after our work:\n",
    " * The average age of insurants equals 39.0 years with the standart deviation 14.0 years and it looks like people with different ages buy insurance\n",
    " * The most insurants are from the Southeast region and their amount equals 364. But there are a lot of insurants from other regions either and the difference is not large and equals 39-40 insurants\n",
    " * Your habbits can extremaly increase the cost of insurance if you are a smoker. Averagely not-smokers pay 8434.0 US dollars for the insurance and smokers pay 32050.0 US dollars and it is 23616.0 US dollars more! But the cost not essentially depends on you are male or female and equals 13957.0 and 12570.0 US dollars respectively.\n",
    " * The average age of insurants who are parents equals 40.0 years and it is just a little more than the average age of all insurants which equals 39.0 years. Interesting to note that from insurants there are more parents and their amount is 764 when insurants who are not-parents only 574."
   ]
  },
  {
   "cell_type": "markdown",
   "metadata": {},
   "source": [
    "## Afterword"
   ]
  },
  {
   "cell_type": "markdown",
   "metadata": {},
   "source": [
    "Definitely these are not all questions which could be interesting us and be answered but we have to leave them outside the scope of the project. The primary objective of this project was to demonstrate proficiency in Python programming, data manipulation, and analysis techniques. By investigating a CSV file with medical insurance costs, the project showcases the ability to derive insights from real-world data."
   ]
  }
 ],
 "metadata": {
  "kernelspec": {
   "display_name": "Python 3 (ipykernel)",
   "language": "python",
   "name": "python3"
  },
  "language_info": {
   "codemirror_mode": {
    "name": "ipython",
    "version": 3
   },
   "file_extension": ".py",
   "mimetype": "text/x-python",
   "name": "python",
   "nbconvert_exporter": "python",
   "pygments_lexer": "ipython3",
   "version": "3.11.7"
  }
 },
 "nbformat": 4,
 "nbformat_minor": 4
}
