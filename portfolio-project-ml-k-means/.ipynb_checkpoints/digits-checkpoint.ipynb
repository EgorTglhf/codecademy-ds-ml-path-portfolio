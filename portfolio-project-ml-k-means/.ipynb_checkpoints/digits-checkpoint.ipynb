{
 "cells": [
  {
   "cell_type": "code",
   "execution_count": 1,
   "id": "6e778588-5ff8-407a-a623-319ca23691a2",
   "metadata": {},
   "outputs": [],
   "source": [
    "import numpy as np\n",
    "from matplotlib import pyplot as plt\n",
    "from sklearn import datasets\n",
    "from sklearn.cluster import KMeans"
   ]
  },
  {
   "cell_type": "markdown",
   "id": "01a76636-0b15-4c50-a023-f8fe1cc822c3",
   "metadata": {},
   "source": [
    "## Load and investigate the data"
   ]
  },
  {
   "cell_type": "code",
   "execution_count": 3,
   "id": "5dc17ecd-222f-43fc-ab9f-dadd3ea4499c",
   "metadata": {},
   "outputs": [
    {
     "name": "stdout",
     "output_type": "stream",
     "text": [
      ".. _digits_dataset:\n",
      "\n",
      "Optical recognition of handwritten digits dataset\n",
      "--------------------------------------------------\n",
      "\n",
      "**Data Set Characteristics:**\n",
      "\n",
      "    :Number of Instances: 1797\n",
      "    :Number of Attributes: 64\n",
      "    :Attribute Information: 8x8 image of integer pixels in the range 0..16.\n",
      "    :Missing Attribute Values: None\n",
      "    :Creator: E. Alpaydin (alpaydin '@' boun.edu.tr)\n",
      "    :Date: July; 1998\n",
      "\n",
      "This is a copy of the test set of the UCI ML hand-written digits datasets\n",
      "https://archive.ics.uci.edu/ml/datasets/Optical+Recognition+of+Handwritten+Digits\n",
      "\n",
      "The data set contains images of hand-written digits: 10 classes where\n",
      "each class refers to a digit.\n",
      "\n",
      "Preprocessing programs made available by NIST were used to extract\n",
      "normalized bitmaps of handwritten digits from a preprinted form. From a\n",
      "total of 43 people, 30 contributed to the training set and different 13\n",
      "to the test set. 32x32 bitmaps are divided into nonoverlapping blocks of\n",
      "4x4 and the number of on pixels are counted in each block. This generates\n",
      "an input matrix of 8x8 where each element is an integer in the range\n",
      "0..16. This reduces dimensionality and gives invariance to small\n",
      "distortions.\n",
      "\n",
      "For info on NIST preprocessing routines, see M. D. Garris, J. L. Blue, G.\n",
      "T. Candela, D. L. Dimmick, J. Geist, P. J. Grother, S. A. Janet, and C.\n",
      "L. Wilson, NIST Form-Based Handprint Recognition System, NISTIR 5469,\n",
      "1994.\n",
      "\n",
      ".. topic:: References\n",
      "\n",
      "  - C. Kaynak (1995) Methods of Combining Multiple Classifiers and Their\n",
      "    Applications to Handwritten Digit Recognition, MSc Thesis, Institute of\n",
      "    Graduate Studies in Science and Engineering, Bogazici University.\n",
      "  - E. Alpaydin, C. Kaynak (1998) Cascading Classifiers, Kybernetika.\n",
      "  - Ken Tang and Ponnuthurai N. Suganthan and Xi Yao and A. Kai Qin.\n",
      "    Linear dimensionalityreduction using relevance weighted LDA. School of\n",
      "    Electrical and Electronic Engineering Nanyang Technological University.\n",
      "    2005.\n",
      "  - Claudio Gentile. A New Approximate Maximal Margin Classification\n",
      "    Algorithm. NIPS. 2000.\n",
      "\n",
      "[[ 0.  0.  5. ...  0.  0.  0.]\n",
      " [ 0.  0.  0. ... 10.  0.  0.]\n",
      " [ 0.  0.  0. ... 16.  9.  0.]\n",
      " ...\n",
      " [ 0.  0.  1. ...  6.  0.  0.]\n",
      " [ 0.  0.  2. ... 12.  0.  0.]\n",
      " [ 0.  0. 10. ... 12.  1.  0.]]\n",
      "[0 1 2 ... 8 9 8]\n"
     ]
    },
    {
     "data": {
      "text/plain": [
       "<Figure size 640x480 with 0 Axes>"
      ]
     },
     "metadata": {},
     "output_type": "display_data"
    },
    {
     "data": {
      "image/png": "[encoded data removed]",
      "text/plain": [
       "<Figure size 480x480 with 1 Axes>"
      ]
     },
     "metadata": {},
     "output_type": "display_data"
    },
    {
     "name": "stdout",
     "output_type": "stream",
     "text": [
      "4\n"
     ]
    }
   ],
   "source": [
    "digits = datasets.load_digits()\n",
    "print(digits.DESCR)\n",
    "\n",
    "print(digits.data)\n",
    "\n",
    "print(digits.target)\n",
    "\n",
    "plt.gray() \n",
    "plt.matshow(digits.images[100])\n",
    "plt.show()\n",
    "print(digits.target[100])"
   ]
  },
  {
   "cell_type": "markdown",
   "id": "e2184041-e35f-4dc8-9365-6eef24067028",
   "metadata": {},
   "source": [
    "## K Means"
   ]
  },
  {
   "cell_type": "code",
   "execution_count": 5,
   "id": "7eff20a7-4671-4966-b31e-fbb6900c26f6",
   "metadata": {},
   "outputs": [
    {
     "data": {
      "image/png": "[encoded data removed]",
      "text/plain": [
       "<Figure size 800x300 with 10 Axes>"
      ]
     },
     "metadata": {},
     "output_type": "display_data"
    }
   ],
   "source": [
    "model = KMeans(n_clusters=10, random_state=42, n_init=10)\n",
    "model.fit(digits.data)\n",
    "\n",
    "fig = plt.figure(figsize=(8, 3))\n",
    "fig.suptitle('Cluser Center Images', fontsize=14, fontweight='bold')\n",
    "\n",
    "for i in range(10):\n",
    "  # Initialize subplots in a grid of 2X5, at i+1th position\n",
    "  ax = fig.add_subplot(2, 5, 1 + i)\n",
    "  # Display images\n",
    "  ax.imshow(model.cluster_centers_[i].reshape((8, 8)), cmap=plt.cm.binary)\n",
    "plt.show()"
   ]
  },
  {
   "cell_type": "code",
   "execution_count": 16,
   "id": "c5318b20-f2d9-4bd8-bac0-528f606131ac",
   "metadata": {},
   "outputs": [
    {
     "name": "stdout",
     "output_type": "stream",
     "text": [
      "[3 2 1 1]\n",
      "1299"
     ]
    }
   ],
   "source": [
    "new_samples = np.array([\n",
    "[0.00,0.00,0.00,0.00,1.93,7.51,4.95,0.00,0.00,0.00,0.00,1.78,7.15,7.62,5.33,0.00,0.00,0.00,1.42,7.46,6.77,7.00,5.25,0.00,0.00,0.00,0.61,3.58,1.73,7.62,3.73,0.00,0.00,0.00,0.00,0.00,2.55,7.62,2.05,0.00,0.00,0.00,0.00,0.00,5.48,7.37,0.37,0.00,0.00,0.00,0.00,1.83,7.54,4.18,0.00,0.00,0.00,0.00,0.00,3.73,7.62,1.28,0.00,0.00],\n",
    "[0.00,0.00,1.94,2.28,0.60,0.00,0.00,0.00,0.00,4.61,7.62,7.62,6.77,1.11,0.00,0.00,0.38,7.31,4.83,2.40,7.61,3.65,0.00,0.00,0.00,0.00,0.00,1.20,7.62,3.72,0.00,0.00,0.00,0.00,0.00,5.52,7.39,1.11,0.00,0.00,0.00,0.00,3.05,7.62,3.92,0.00,0.00,0.00,0.00,0.00,6.44,7.62,5.48,5.33,5.34,1.96,0.00,0.00,4.18,5.33,5.34,5.33,5.34,2.06],\n",
    "[0.00,0.00,0.97,4.41,4.57,3.27,0.00,0.00,0.00,1.56,7.00,7.23,6.70,7.62,0.61,0.00,0.00,4.88,6.85,1.58,4.92,7.62,0.75,0.00,0.00,0.23,0.30,3.58,7.61,7.62,6.61,0.81,0.00,0.00,0.00,5.62,7.11,4.46,7.62,3.79,0.00,0.00,0.00,0.30,0.30,0.00,6.61,5.78,0.00,0.00,0.00,0.41,2.49,4.77,7.62,5.01,0.00,0.00,0.00,6.91,7.62,7.37,4.43,0.23],\n",
    "[0.00,0.96,4.92,6.48,7.54,4.57,0.23,0.00,0.00,4.31,7.46,5.00,5.62,7.62,4.53,0.00,0.00,4.56,7.28,1.72,0.14,6.38,6.92,0.00,0.00,2.12,7.36,7.62,6.45,7.35,7.62,0.76,0.00,0.00,0.76,3.50,4.57,5.93,7.62,0.76,0.00,2.49,4.65,0.89,0.98,6.44,6.92,0.14,0.00,2.81,7.52,6.54,6.98,7.36,2.63,0.00,0.00,0.00,2.27,6.70,6.01,2.02,0.00,0.00]\n",
    "])\n",
    "\n",
    "new_labels = model.predict(new_samples)\n",
    "\n",
    "print(new_labels) \n",
    "\n",
    "for i in range(len(new_labels)):\n",
    "  if new_labels[i] == 0:\n",
    "    print(0, end='')\n",
    "  elif new_labels[i] == 1:\n",
    "    print(9, end='')\n",
    "  elif new_labels[i] == 2:\n",
    "    print(2, end='')\n",
    "  elif new_labels[i] == 3:\n",
    "    print(1, end='')\n",
    "  elif new_labels[i] == 4:\n",
    "    print(6, end='')\n",
    "  elif new_labels[i] == 5:\n",
    "    print(8, end='')\n",
    "  elif new_labels[i] == 6:\n",
    "    print(4, end='')\n",
    "  elif new_labels[i] == 7:\n",
    "    print(5, end='')\n",
    "  elif new_labels[i] == 8:\n",
    "    print(7, end='')\n",
    "  elif new_labels[i] == 9:\n",
    "    print(3, end='')"
   ]
  },
  {
   "cell_type": "code",
   "execution_count": null,
   "id": "f9cda7f9-f500-4aae-ad3b-9b48955cac00",
   "metadata": {},
   "outputs": [],
   "source": []
  }
 ],
 "metadata": {
  "kernelspec": {
   "display_name": "Python 3 (ipykernel)",
   "language": "python",
   "name": "python3"
  },
  "language_info": {
   "codemirror_mode": {
    "name": "ipython",
    "version": 3
   },
   "file_extension": ".py",
   "mimetype": "text/x-python",
   "name": "python",
   "nbconvert_exporter": "python",
   "pygments_lexer": "ipython3",
   "version": "3.11.7"
  }
 },
 "nbformat": 4,
 "nbformat_minor": 5
}
